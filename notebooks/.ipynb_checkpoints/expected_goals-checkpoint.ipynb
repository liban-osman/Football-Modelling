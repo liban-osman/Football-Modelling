{
 "cells": [
  {
   "cell_type": "code",
   "execution_count": 240,
   "metadata": {},
   "outputs": [],
   "source": [
    "import pandas as pd\n",
    "import numpy as np\n",
    "import json\n",
    "import os\n",
    "import matplotlib.pyplot as plt\n",
    "import seaborn as sns\n",
    "\n",
    "from sklearn.model_selection import train_test_split\n",
    "from sklearn.linear_model import LogisticRegression\n",
    "from sklearn.metrics import accuracy_score, classification_report, confusion_matrix"
   ]
  },
  {
   "cell_type": "code",
   "execution_count": 223,
   "metadata": {},
   "outputs": [],
   "source": [
    "df = pd.DataFrame()"
   ]
  },
  {
   "cell_type": "code",
   "execution_count": 224,
   "metadata": {},
   "outputs": [],
   "source": [
    "file_path = r'C:\\Users\\liban\\OneDrive - University of Waterloo\\Projects\\Football-Modelling\\data\\source\\WhoScored\\events\\ENG-Premier League_2021'\n",
    "\n",
    "for filename in os.listdir(file_path):\n",
    "    f = os.path.join(file_path, filename)\n",
    "    with open(f, 'r') as j:\n",
    "        contents = json.loads(j.read())\n",
    "        df = df.append(pd.DataFrame(contents[\"events\"]))"
   ]
  },
  {
   "cell_type": "code",
   "execution_count": 225,
   "metadata": {},
   "outputs": [
    {
     "data": {
      "text/plain": [
       "(278175, 33)"
      ]
     },
     "execution_count": 225,
     "metadata": {},
     "output_type": "execute_result"
    }
   ],
   "source": [
    "df.shape"
   ]
  },
  {
   "cell_type": "code",
   "execution_count": 226,
   "metadata": {
    "scrolled": true
   },
   "outputs": [
    {
     "data": {
      "text/html": [
       "<div>\n",
       "<style scoped>\n",
       "    .dataframe tbody tr th:only-of-type {\n",
       "        vertical-align: middle;\n",
       "    }\n",
       "\n",
       "    .dataframe tbody tr th {\n",
       "        vertical-align: top;\n",
       "    }\n",
       "\n",
       "    .dataframe thead th {\n",
       "        text-align: right;\n",
       "    }\n",
       "</style>\n",
       "<table border=\"1\" class=\"dataframe\">\n",
       "  <thead>\n",
       "    <tr style=\"text-align: right;\">\n",
       "      <th></th>\n",
       "      <th>eventId</th>\n",
       "      <th>expandedMinute</th>\n",
       "      <th>id</th>\n",
       "      <th>isTouch</th>\n",
       "      <th>minute</th>\n",
       "      <th>outcomeType</th>\n",
       "      <th>period</th>\n",
       "      <th>qualifiers</th>\n",
       "      <th>satisfiedEventsTypes</th>\n",
       "      <th>second</th>\n",
       "      <th>...</th>\n",
       "      <th>blockedY</th>\n",
       "      <th>cardType</th>\n",
       "      <th>isGoal</th>\n",
       "      <th>$idx</th>\n",
       "      <th>$len</th>\n",
       "      <th>field</th>\n",
       "      <th>minuteInfo</th>\n",
       "      <th>satisfiers</th>\n",
       "      <th>text</th>\n",
       "      <th>isOwnGoal</th>\n",
       "    </tr>\n",
       "  </thead>\n",
       "  <tbody>\n",
       "    <tr>\n",
       "      <th>0</th>\n",
       "      <td>2</td>\n",
       "      <td>0</td>\n",
       "      <td>2253487473</td>\n",
       "      <td>False</td>\n",
       "      <td>0</td>\n",
       "      <td>{'displayName': 'Successful', 'value': 1}</td>\n",
       "      <td>{'displayName': 'FirstHalf', 'value': 1}</td>\n",
       "      <td>[]</td>\n",
       "      <td>[]</td>\n",
       "      <td>0.0</td>\n",
       "      <td>...</td>\n",
       "      <td>NaN</td>\n",
       "      <td>NaN</td>\n",
       "      <td>NaN</td>\n",
       "      <td>NaN</td>\n",
       "      <td>NaN</td>\n",
       "      <td>NaN</td>\n",
       "      <td>NaN</td>\n",
       "      <td>NaN</td>\n",
       "      <td>NaN</td>\n",
       "      <td>NaN</td>\n",
       "    </tr>\n",
       "    <tr>\n",
       "      <th>1</th>\n",
       "      <td>1000003</td>\n",
       "      <td>0</td>\n",
       "      <td>2253487469</td>\n",
       "      <td>False</td>\n",
       "      <td>0</td>\n",
       "      <td>{'displayName': 'Successful', 'value': 1}</td>\n",
       "      <td>{'displayName': 'FirstHalf', 'value': 1}</td>\n",
       "      <td>[]</td>\n",
       "      <td>[]</td>\n",
       "      <td>0.0</td>\n",
       "      <td>...</td>\n",
       "      <td>NaN</td>\n",
       "      <td>NaN</td>\n",
       "      <td>NaN</td>\n",
       "      <td>NaN</td>\n",
       "      <td>NaN</td>\n",
       "      <td>NaN</td>\n",
       "      <td>NaN</td>\n",
       "      <td>NaN</td>\n",
       "      <td>NaN</td>\n",
       "      <td>NaN</td>\n",
       "    </tr>\n",
       "    <tr>\n",
       "      <th>2</th>\n",
       "      <td>1000004</td>\n",
       "      <td>0</td>\n",
       "      <td>2253487625</td>\n",
       "      <td>True</td>\n",
       "      <td>0</td>\n",
       "      <td>{'displayName': 'Successful', 'value': 1}</td>\n",
       "      <td>{'displayName': 'FirstHalf', 'value': 1}</td>\n",
       "      <td>[{'type': {'displayName': 'Angle', 'value': 21...</td>\n",
       "      <td>[91, 117, 30, 35, 215, 218]</td>\n",
       "      <td>0.0</td>\n",
       "      <td>...</td>\n",
       "      <td>NaN</td>\n",
       "      <td>NaN</td>\n",
       "      <td>NaN</td>\n",
       "      <td>NaN</td>\n",
       "      <td>NaN</td>\n",
       "      <td>NaN</td>\n",
       "      <td>NaN</td>\n",
       "      <td>NaN</td>\n",
       "      <td>NaN</td>\n",
       "      <td>NaN</td>\n",
       "    </tr>\n",
       "    <tr>\n",
       "      <th>3</th>\n",
       "      <td>1000005</td>\n",
       "      <td>0</td>\n",
       "      <td>2253487639</td>\n",
       "      <td>True</td>\n",
       "      <td>0</td>\n",
       "      <td>{'displayName': 'Successful', 'value': 1}</td>\n",
       "      <td>{'displayName': 'FirstHalf', 'value': 1}</td>\n",
       "      <td>[{'type': {'displayName': 'StandingSave', 'val...</td>\n",
       "      <td>[91, 117, 30, 36, 38, 216, 218]</td>\n",
       "      <td>2.0</td>\n",
       "      <td>...</td>\n",
       "      <td>NaN</td>\n",
       "      <td>NaN</td>\n",
       "      <td>NaN</td>\n",
       "      <td>NaN</td>\n",
       "      <td>NaN</td>\n",
       "      <td>NaN</td>\n",
       "      <td>NaN</td>\n",
       "      <td>NaN</td>\n",
       "      <td>NaN</td>\n",
       "      <td>NaN</td>\n",
       "    </tr>\n",
       "    <tr>\n",
       "      <th>4</th>\n",
       "      <td>1000006</td>\n",
       "      <td>0</td>\n",
       "      <td>2253487685</td>\n",
       "      <td>True</td>\n",
       "      <td>0</td>\n",
       "      <td>{'displayName': 'Successful', 'value': 1}</td>\n",
       "      <td>{'displayName': 'FirstHalf', 'value': 1}</td>\n",
       "      <td>[{'type': {'displayName': 'Longball', 'value':...</td>\n",
       "      <td>[91, 119, 117, 123, 124, 127, 205, 39, 46, 36,...</td>\n",
       "      <td>7.0</td>\n",
       "      <td>...</td>\n",
       "      <td>NaN</td>\n",
       "      <td>NaN</td>\n",
       "      <td>NaN</td>\n",
       "      <td>NaN</td>\n",
       "      <td>NaN</td>\n",
       "      <td>NaN</td>\n",
       "      <td>NaN</td>\n",
       "      <td>NaN</td>\n",
       "      <td>NaN</td>\n",
       "      <td>NaN</td>\n",
       "    </tr>\n",
       "  </tbody>\n",
       "</table>\n",
       "<p>5 rows × 33 columns</p>\n",
       "</div>"
      ],
      "text/plain": [
       "   eventId  expandedMinute          id  isTouch  minute  \\\n",
       "0        2               0  2253487473    False       0   \n",
       "1  1000003               0  2253487469    False       0   \n",
       "2  1000004               0  2253487625     True       0   \n",
       "3  1000005               0  2253487639     True       0   \n",
       "4  1000006               0  2253487685     True       0   \n",
       "\n",
       "                                 outcomeType  \\\n",
       "0  {'displayName': 'Successful', 'value': 1}   \n",
       "1  {'displayName': 'Successful', 'value': 1}   \n",
       "2  {'displayName': 'Successful', 'value': 1}   \n",
       "3  {'displayName': 'Successful', 'value': 1}   \n",
       "4  {'displayName': 'Successful', 'value': 1}   \n",
       "\n",
       "                                     period  \\\n",
       "0  {'displayName': 'FirstHalf', 'value': 1}   \n",
       "1  {'displayName': 'FirstHalf', 'value': 1}   \n",
       "2  {'displayName': 'FirstHalf', 'value': 1}   \n",
       "3  {'displayName': 'FirstHalf', 'value': 1}   \n",
       "4  {'displayName': 'FirstHalf', 'value': 1}   \n",
       "\n",
       "                                          qualifiers  \\\n",
       "0                                                 []   \n",
       "1                                                 []   \n",
       "2  [{'type': {'displayName': 'Angle', 'value': 21...   \n",
       "3  [{'type': {'displayName': 'StandingSave', 'val...   \n",
       "4  [{'type': {'displayName': 'Longball', 'value':...   \n",
       "\n",
       "                                satisfiedEventsTypes  second  ...  blockedY  \\\n",
       "0                                                 []     0.0  ...       NaN   \n",
       "1                                                 []     0.0  ...       NaN   \n",
       "2                        [91, 117, 30, 35, 215, 218]     0.0  ...       NaN   \n",
       "3                    [91, 117, 30, 36, 38, 216, 218]     2.0  ...       NaN   \n",
       "4  [91, 119, 117, 123, 124, 127, 205, 39, 46, 36,...     7.0  ...       NaN   \n",
       "\n",
       "  cardType  isGoal  $idx  $len  field  minuteInfo  satisfiers  text isOwnGoal  \n",
       "0      NaN     NaN   NaN   NaN    NaN         NaN         NaN   NaN       NaN  \n",
       "1      NaN     NaN   NaN   NaN    NaN         NaN         NaN   NaN       NaN  \n",
       "2      NaN     NaN   NaN   NaN    NaN         NaN         NaN   NaN       NaN  \n",
       "3      NaN     NaN   NaN   NaN    NaN         NaN         NaN   NaN       NaN  \n",
       "4      NaN     NaN   NaN   NaN    NaN         NaN         NaN   NaN       NaN  \n",
       "\n",
       "[5 rows x 33 columns]"
      ]
     },
     "execution_count": 226,
     "metadata": {},
     "output_type": "execute_result"
    }
   ],
   "source": [
    "df.head()"
   ]
  },
  {
   "cell_type": "code",
   "execution_count": 227,
   "metadata": {},
   "outputs": [
    {
     "data": {
      "text/plain": [
       "Index(['eventId', 'expandedMinute', 'id', 'isTouch', 'minute', 'outcomeType',\n",
       "       'period', 'qualifiers', 'satisfiedEventsTypes', 'second', 'teamId',\n",
       "       'type', 'x', 'y', 'endX', 'endY', 'playerId', 'goalMouthY',\n",
       "       'goalMouthZ', 'isShot', 'relatedEventId', 'relatedPlayerId', 'blockedX',\n",
       "       'blockedY', 'cardType', 'isGoal', '$idx', '$len', 'field', 'minuteInfo',\n",
       "       'satisfiers', 'text', 'isOwnGoal'],\n",
       "      dtype='object')"
      ]
     },
     "execution_count": 227,
     "metadata": {},
     "output_type": "execute_result"
    }
   ],
   "source": [
    "df.columns"
   ]
  },
  {
   "cell_type": "code",
   "execution_count": 228,
   "metadata": {},
   "outputs": [],
   "source": [
    "df_shots = df[df[\"isShot\"] == True].copy()"
   ]
  },
  {
   "cell_type": "code",
   "execution_count": 229,
   "metadata": {},
   "outputs": [
    {
     "data": {
      "text/html": [
       "<div>\n",
       "<style scoped>\n",
       "    .dataframe tbody tr th:only-of-type {\n",
       "        vertical-align: middle;\n",
       "    }\n",
       "\n",
       "    .dataframe tbody tr th {\n",
       "        vertical-align: top;\n",
       "    }\n",
       "\n",
       "    .dataframe thead th {\n",
       "        text-align: right;\n",
       "    }\n",
       "</style>\n",
       "<table border=\"1\" class=\"dataframe\">\n",
       "  <thead>\n",
       "    <tr style=\"text-align: right;\">\n",
       "      <th></th>\n",
       "      <th>eventId</th>\n",
       "      <th>expandedMinute</th>\n",
       "      <th>id</th>\n",
       "      <th>isTouch</th>\n",
       "      <th>minute</th>\n",
       "      <th>outcomeType</th>\n",
       "      <th>period</th>\n",
       "      <th>qualifiers</th>\n",
       "      <th>satisfiedEventsTypes</th>\n",
       "      <th>second</th>\n",
       "      <th>...</th>\n",
       "      <th>blockedY</th>\n",
       "      <th>cardType</th>\n",
       "      <th>isGoal</th>\n",
       "      <th>$idx</th>\n",
       "      <th>$len</th>\n",
       "      <th>field</th>\n",
       "      <th>minuteInfo</th>\n",
       "      <th>satisfiers</th>\n",
       "      <th>text</th>\n",
       "      <th>isOwnGoal</th>\n",
       "    </tr>\n",
       "  </thead>\n",
       "  <tbody>\n",
       "    <tr>\n",
       "      <th>5</th>\n",
       "      <td>1000007</td>\n",
       "      <td>0</td>\n",
       "      <td>2253487689</td>\n",
       "      <td>True</td>\n",
       "      <td>0</td>\n",
       "      <td>{'displayName': 'Successful', 'value': 1}</td>\n",
       "      <td>{'displayName': 'FirstHalf', 'value': 1}</td>\n",
       "      <td>[{'type': {'displayName': 'RelatedEventId', 'v...</td>\n",
       "      <td>[91, 7, 90, 10, 1, 3, 13]</td>\n",
       "      <td>11.0</td>\n",
       "      <td>...</td>\n",
       "      <td>NaN</td>\n",
       "      <td>NaN</td>\n",
       "      <td>NaN</td>\n",
       "      <td>NaN</td>\n",
       "      <td>NaN</td>\n",
       "      <td>NaN</td>\n",
       "      <td>NaN</td>\n",
       "      <td>NaN</td>\n",
       "      <td>NaN</td>\n",
       "      <td>NaN</td>\n",
       "    </tr>\n",
       "    <tr>\n",
       "      <th>53</th>\n",
       "      <td>1000029</td>\n",
       "      <td>2</td>\n",
       "      <td>2253489297</td>\n",
       "      <td>True</td>\n",
       "      <td>2</td>\n",
       "      <td>{'displayName': 'Successful', 'value': 1}</td>\n",
       "      <td>{'displayName': 'FirstHalf', 'value': 1}</td>\n",
       "      <td>[{'type': {'displayName': 'GoalMouthY', 'value...</td>\n",
       "      <td>[91, 10, 2, 3, 11, 13]</td>\n",
       "      <td>49.0</td>\n",
       "      <td>...</td>\n",
       "      <td>37.5</td>\n",
       "      <td>NaN</td>\n",
       "      <td>NaN</td>\n",
       "      <td>NaN</td>\n",
       "      <td>NaN</td>\n",
       "      <td>NaN</td>\n",
       "      <td>NaN</td>\n",
       "      <td>NaN</td>\n",
       "      <td>NaN</td>\n",
       "      <td>NaN</td>\n",
       "    </tr>\n",
       "    <tr>\n",
       "      <th>178</th>\n",
       "      <td>1000093</td>\n",
       "      <td>9</td>\n",
       "      <td>2253492889</td>\n",
       "      <td>True</td>\n",
       "      <td>9</td>\n",
       "      <td>{'displayName': 'Successful', 'value': 1}</td>\n",
       "      <td>{'displayName': 'FirstHalf', 'value': 1}</td>\n",
       "      <td>[{'type': {'displayName': 'GoalMouthZ', 'value...</td>\n",
       "      <td>[91, 10, 2, 3, 11, 12]</td>\n",
       "      <td>2.0</td>\n",
       "      <td>...</td>\n",
       "      <td>58.8</td>\n",
       "      <td>NaN</td>\n",
       "      <td>NaN</td>\n",
       "      <td>NaN</td>\n",
       "      <td>NaN</td>\n",
       "      <td>NaN</td>\n",
       "      <td>NaN</td>\n",
       "      <td>NaN</td>\n",
       "      <td>NaN</td>\n",
       "      <td>NaN</td>\n",
       "    </tr>\n",
       "    <tr>\n",
       "      <th>232</th>\n",
       "      <td>1000120</td>\n",
       "      <td>12</td>\n",
       "      <td>2253494513</td>\n",
       "      <td>True</td>\n",
       "      <td>12</td>\n",
       "      <td>{'displayName': 'Successful', 'value': 1}</td>\n",
       "      <td>{'displayName': 'FirstHalf', 'value': 1}</td>\n",
       "      <td>[{'type': {'displayName': 'OutOfBoxCentre', 'v...</td>\n",
       "      <td>[91, 7, 10, 2, 3, 13]</td>\n",
       "      <td>5.0</td>\n",
       "      <td>...</td>\n",
       "      <td>NaN</td>\n",
       "      <td>NaN</td>\n",
       "      <td>NaN</td>\n",
       "      <td>NaN</td>\n",
       "      <td>NaN</td>\n",
       "      <td>NaN</td>\n",
       "      <td>NaN</td>\n",
       "      <td>NaN</td>\n",
       "      <td>NaN</td>\n",
       "      <td>NaN</td>\n",
       "    </tr>\n",
       "    <tr>\n",
       "      <th>285</th>\n",
       "      <td>177</td>\n",
       "      <td>16</td>\n",
       "      <td>2253496507</td>\n",
       "      <td>True</td>\n",
       "      <td>16</td>\n",
       "      <td>{'displayName': 'Successful', 'value': 1}</td>\n",
       "      <td>{'displayName': 'FirstHalf', 'value': 1}</td>\n",
       "      <td>[{'type': {'displayName': 'GoalMouthY', 'value...</td>\n",
       "      <td>[91, 9, 10, 1, 3, 12]</td>\n",
       "      <td>8.0</td>\n",
       "      <td>...</td>\n",
       "      <td>49.5</td>\n",
       "      <td>NaN</td>\n",
       "      <td>NaN</td>\n",
       "      <td>NaN</td>\n",
       "      <td>NaN</td>\n",
       "      <td>NaN</td>\n",
       "      <td>NaN</td>\n",
       "      <td>NaN</td>\n",
       "      <td>NaN</td>\n",
       "      <td>NaN</td>\n",
       "    </tr>\n",
       "  </tbody>\n",
       "</table>\n",
       "<p>5 rows × 33 columns</p>\n",
       "</div>"
      ],
      "text/plain": [
       "     eventId  expandedMinute          id  isTouch  minute  \\\n",
       "5    1000007               0  2253487689     True       0   \n",
       "53   1000029               2  2253489297     True       2   \n",
       "178  1000093               9  2253492889     True       9   \n",
       "232  1000120              12  2253494513     True      12   \n",
       "285      177              16  2253496507     True      16   \n",
       "\n",
       "                                   outcomeType  \\\n",
       "5    {'displayName': 'Successful', 'value': 1}   \n",
       "53   {'displayName': 'Successful', 'value': 1}   \n",
       "178  {'displayName': 'Successful', 'value': 1}   \n",
       "232  {'displayName': 'Successful', 'value': 1}   \n",
       "285  {'displayName': 'Successful', 'value': 1}   \n",
       "\n",
       "                                       period  \\\n",
       "5    {'displayName': 'FirstHalf', 'value': 1}   \n",
       "53   {'displayName': 'FirstHalf', 'value': 1}   \n",
       "178  {'displayName': 'FirstHalf', 'value': 1}   \n",
       "232  {'displayName': 'FirstHalf', 'value': 1}   \n",
       "285  {'displayName': 'FirstHalf', 'value': 1}   \n",
       "\n",
       "                                            qualifiers  \\\n",
       "5    [{'type': {'displayName': 'RelatedEventId', 'v...   \n",
       "53   [{'type': {'displayName': 'GoalMouthY', 'value...   \n",
       "178  [{'type': {'displayName': 'GoalMouthZ', 'value...   \n",
       "232  [{'type': {'displayName': 'OutOfBoxCentre', 'v...   \n",
       "285  [{'type': {'displayName': 'GoalMouthY', 'value...   \n",
       "\n",
       "          satisfiedEventsTypes  second  ...  blockedY cardType  isGoal  $idx  \\\n",
       "5    [91, 7, 90, 10, 1, 3, 13]    11.0  ...       NaN      NaN     NaN   NaN   \n",
       "53      [91, 10, 2, 3, 11, 13]    49.0  ...      37.5      NaN     NaN   NaN   \n",
       "178     [91, 10, 2, 3, 11, 12]     2.0  ...      58.8      NaN     NaN   NaN   \n",
       "232      [91, 7, 10, 2, 3, 13]     5.0  ...       NaN      NaN     NaN   NaN   \n",
       "285      [91, 9, 10, 1, 3, 12]     8.0  ...      49.5      NaN     NaN   NaN   \n",
       "\n",
       "     $len  field  minuteInfo  satisfiers  text isOwnGoal  \n",
       "5     NaN    NaN         NaN         NaN   NaN       NaN  \n",
       "53    NaN    NaN         NaN         NaN   NaN       NaN  \n",
       "178   NaN    NaN         NaN         NaN   NaN       NaN  \n",
       "232   NaN    NaN         NaN         NaN   NaN       NaN  \n",
       "285   NaN    NaN         NaN         NaN   NaN       NaN  \n",
       "\n",
       "[5 rows x 33 columns]"
      ]
     },
     "execution_count": 229,
     "metadata": {},
     "output_type": "execute_result"
    }
   ],
   "source": [
    "df_shots.head()"
   ]
  },
  {
   "cell_type": "code",
   "execution_count": 230,
   "metadata": {},
   "outputs": [],
   "source": [
    "relevant_columns = ['outcome', 'x', 'y', 'intentional_assist', 'context', 'distance_to_goal',\n",
    "                    'angle']"
   ]
  },
  {
   "cell_type": "code",
   "execution_count": 233,
   "metadata": {},
   "outputs": [],
   "source": [
    "def angle(x,y):\n",
    "    '''\n",
    "    Calculated in Radians.\n",
    "    '''\n",
    "    #x = x*105/100\n",
    "    #y = y*65/100\n",
    "    \n",
    "    x = 100 - x\n",
    "    y = abs(y-50)\n",
    "    x = x*105/100\n",
    "    y = y*65/100\n",
    "    a = np.arctan(7.32 *x /(x**2 + y**2 - (7.32/2)**2))\n",
    "    if a < 0:\n",
    "        a = np.pi + a\n",
    "    return a\n",
    "\n",
    "def intentional_assist(row):\n",
    "    for x in row[\"qualifiers\"]:\n",
    "        if x[\"type\"][\"displayName\"] == 'IntentionalAssist':\n",
    "            return 1\n",
    "    return 0\n",
    "\n",
    "def context(row):\n",
    "    for x in row[\"qualifiers\"]:\n",
    "        if x[\"type\"][\"displayName\"] == 'RegularPlay':\n",
    "             return 0\n",
    "        if x[\"type\"][\"displayName\"] == 'FromCorner':\n",
    "            return 1\n",
    "    return 2\n",
    "\n",
    "def distance(x,y):\n",
    "    x = 100 - x\n",
    "    y = abs(y-50)\n",
    "    x = x*105/100\n",
    "    y = y*65/100\n",
    "    return np.sqrt(x**2 + y**2)\n",
    "\n",
    "def goal(row):\n",
    "    if row[\"isGoal\"] == True:\n",
    "        return 1\n",
    "    else:\n",
    "        return 0"
   ]
  },
  {
   "cell_type": "code",
   "execution_count": 234,
   "metadata": {},
   "outputs": [],
   "source": [
    "df_shots = df[df[\"isShot\"] == True].copy()\n",
    "\n",
    "df_shots['angle'] = df_shots.apply(lambda i: angle(i[\"x\"], i[\"y\"]), axis=1)\n",
    "df_shots['intentional_assist'] = df_shots.apply(lambda i: intentional_assist(i), axis=1)\n",
    "df_shots['context'] = df_shots.apply(lambda i: context(i), axis=1)\n",
    "df_shots['distance_to_goal'] = df_shots.apply(lambda i: distance(i[\"x\"], i[\"y\"]), axis=1)\n",
    "df_shots['isGoal'] = df_shots.apply(lambda i: goal(i), axis=1)"
   ]
  },
  {
   "cell_type": "code",
   "execution_count": 235,
   "metadata": {},
   "outputs": [],
   "source": [
    "df_shots = df_shots[[\"isGoal\", \"x\", \"y\", \"angle\", \"intentional_assist\", \"distance_to_goal\",\n",
    "                    \"context\"]]"
   ]
  },
  {
   "cell_type": "code",
   "execution_count": 280,
   "metadata": {},
   "outputs": [],
   "source": [
    "y = df_shots[[\"isGoal\"]].copy()\n",
    "X = df_shots.drop([\"isGoal\"], axis=1)\n",
    "\n",
    "x_train, x_test, y_train, y_test = train_test_split(X, y, test_size=0.25, random_state=0)"
   ]
  },
  {
   "cell_type": "code",
   "execution_count": 288,
   "metadata": {},
   "outputs": [],
   "source": [
    "logisticRegr = LogisticRegression()\n",
    "\n",
    "logisticRegr.fit(x_train, y_train.values.ravel())\n",
    "y_pred = logisticRegr.predict(x_test)\n",
    "y_proba = logisticRegr.predict_proba(x_test)"
   ]
  },
  {
   "cell_type": "code",
   "execution_count": 282,
   "metadata": {},
   "outputs": [
    {
     "name": "stdout",
     "output_type": "stream",
     "text": [
      "The Accuracy for Training Set is 88.42138563745651\n"
     ]
    }
   ],
   "source": [
    "train_acc = logisticRegr.score(x_train, y_train)\n",
    "print(\"The Accuracy for Training Set is {}\".format(train_acc*100))"
   ]
  },
  {
   "cell_type": "code",
   "execution_count": 283,
   "metadata": {},
   "outputs": [
    {
     "name": "stdout",
     "output_type": "stream",
     "text": [
      "The Accuracy for Test Set is 90.41745730550285\n"
     ]
    }
   ],
   "source": [
    "test_acc = accuracy_score(y_test, y_pred)\n",
    "print(\"The Accuracy for Test Set is {}\".format(test_acc*100))"
   ]
  },
  {
   "cell_type": "code",
   "execution_count": 284,
   "metadata": {},
   "outputs": [
    {
     "data": {
      "text/plain": [
       "Text(0.5, 33.0, 'Predicted Values')"
      ]
     },
     "execution_count": 284,
     "metadata": {},
     "output_type": "execute_result"
    },
    {
     "data": {
      "image/png": "[encoded data removed]",
      "text/plain": [
       "<Figure size 864x432 with 2 Axes>"
      ]
     },
     "metadata": {
      "needs_background": "light"
     },
     "output_type": "display_data"
    }
   ],
   "source": [
    "cm=confusion_matrix(y_test,y_pred)\n",
    "plt.figure(figsize=(12,6))\n",
    "plt.title(\"Confusion Matrix\")\n",
    "sns.heatmap(cm, annot=True,fmt='d', cmap='Blues')\n",
    "plt.ylabel(\"Actual Values\")\n",
    "plt.xlabel(\"Predicted Values\")"
   ]
  },
  {
   "cell_type": "code",
   "execution_count": 290,
   "metadata": {},
   "outputs": [
    {
     "data": {
      "text/plain": [
       "[<matplotlib.lines.Line2D at 0x1dea5d8e460>,\n",
       " <matplotlib.lines.Line2D at 0x1dea5d8e3d0>]"
      ]
     },
     "execution_count": 290,
     "metadata": {},
     "output_type": "execute_result"
    },
    {
     "data": {
      "image/png": "[encoded data removed]",
      "text/plain": [
       "<Figure size 432x288 with 1 Axes>"
      ]
     },
     "metadata": {
      "needs_background": "light"
     },
     "output_type": "display_data"
    }
   ],
   "source": [
    "plt.plot(y_proba)"
   ]
  }
 ],
 "metadata": {
  "kernelspec": {
   "display_name": "Python 3 (ipykernel)",
   "language": "python",
   "name": "python3"
  },
  "language_info": {
   "codemirror_mode": {
    "name": "ipython",
    "version": 3
   },
   "file_extension": ".py",
   "mimetype": "text/x-python",
   "name": "python",
   "nbconvert_exporter": "python",
   "pygments_lexer": "ipython3",
   "version": "3.9.7"
  },
  "vscode": {
   "interpreter": {
    "hash": "655e59ad875c813be4af4daf420eea8bacfe3abfae39e6b2aef60758468ea03f"
   }
  }
 },
 "nbformat": 4,
 "nbformat_minor": 2
}
