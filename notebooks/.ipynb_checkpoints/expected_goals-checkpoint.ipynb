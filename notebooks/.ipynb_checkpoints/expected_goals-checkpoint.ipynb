{
 "cells": [
  {
   "cell_type": "code",
   "execution_count": 158,
   "metadata": {},
   "outputs": [],
   "source": [
    "import pandas as pd\n",
    "import numpy as np\n",
    "import json\n",
    "import os"
   ]
  },
  {
   "cell_type": "code",
   "execution_count": 159,
   "metadata": {},
   "outputs": [],
   "source": [
    "df = pd.DataFrame()"
   ]
  },
  {
   "cell_type": "code",
   "execution_count": 169,
   "metadata": {},
   "outputs": [],
   "source": [
    "file_path = r'C:\\Users\\liban\\OneDrive - University of Waterloo\\Projects\\Football-Modelling\\data\\source\\WhoScored\\events\\ENG-Premier League_2021'\n",
    "\n",
    "for filename in os.listdir(file_path):\n",
    "    f = os.path.join(file_path, filename)\n",
    "    with open(f, 'r') as j:\n",
    "        contents = json.loads(j.read())\n",
    "        df = df.append(pd.DataFrame(contents[\"events\"]))"
   ]
  },
  {
   "cell_type": "code",
   "execution_count": 170,
   "metadata": {},
   "outputs": [
    {
     "data": {
      "text/plain": [
       "(271607, 33)"
      ]
     },
     "execution_count": 170,
     "metadata": {},
     "output_type": "execute_result"
    }
   ],
   "source": [
    "df.shape"
   ]
  },
  {
   "cell_type": "code",
   "execution_count": 171,
   "metadata": {
    "scrolled": true
   },
   "outputs": [
    {
     "data": {
      "text/html": [
       "<div>\n",
       "<style scoped>\n",
       "    .dataframe tbody tr th:only-of-type {\n",
       "        vertical-align: middle;\n",
       "    }\n",
       "\n",
       "    .dataframe tbody tr th {\n",
       "        vertical-align: top;\n",
       "    }\n",
       "\n",
       "    .dataframe thead th {\n",
       "        text-align: right;\n",
       "    }\n",
       "</style>\n",
       "<table border=\"1\" class=\"dataframe\">\n",
       "  <thead>\n",
       "    <tr style=\"text-align: right;\">\n",
       "      <th></th>\n",
       "      <th>eventId</th>\n",
       "      <th>expandedMinute</th>\n",
       "      <th>id</th>\n",
       "      <th>isTouch</th>\n",
       "      <th>minute</th>\n",
       "      <th>outcomeType</th>\n",
       "      <th>period</th>\n",
       "      <th>qualifiers</th>\n",
       "      <th>satisfiedEventsTypes</th>\n",
       "      <th>second</th>\n",
       "      <th>...</th>\n",
       "      <th>blockedY</th>\n",
       "      <th>cardType</th>\n",
       "      <th>isGoal</th>\n",
       "      <th>$idx</th>\n",
       "      <th>$len</th>\n",
       "      <th>field</th>\n",
       "      <th>minuteInfo</th>\n",
       "      <th>satisfiers</th>\n",
       "      <th>text</th>\n",
       "      <th>isOwnGoal</th>\n",
       "    </tr>\n",
       "  </thead>\n",
       "  <tbody>\n",
       "    <tr>\n",
       "      <th>0</th>\n",
       "      <td>2</td>\n",
       "      <td>0</td>\n",
       "      <td>2253487473</td>\n",
       "      <td>False</td>\n",
       "      <td>0</td>\n",
       "      <td>{'displayName': 'Successful', 'value': 1}</td>\n",
       "      <td>{'displayName': 'FirstHalf', 'value': 1}</td>\n",
       "      <td>[]</td>\n",
       "      <td>[]</td>\n",
       "      <td>0.0</td>\n",
       "      <td>...</td>\n",
       "      <td>NaN</td>\n",
       "      <td>NaN</td>\n",
       "      <td>NaN</td>\n",
       "      <td>NaN</td>\n",
       "      <td>NaN</td>\n",
       "      <td>NaN</td>\n",
       "      <td>NaN</td>\n",
       "      <td>NaN</td>\n",
       "      <td>NaN</td>\n",
       "      <td>NaN</td>\n",
       "    </tr>\n",
       "    <tr>\n",
       "      <th>1</th>\n",
       "      <td>1000003</td>\n",
       "      <td>0</td>\n",
       "      <td>2253487469</td>\n",
       "      <td>False</td>\n",
       "      <td>0</td>\n",
       "      <td>{'displayName': 'Successful', 'value': 1}</td>\n",
       "      <td>{'displayName': 'FirstHalf', 'value': 1}</td>\n",
       "      <td>[]</td>\n",
       "      <td>[]</td>\n",
       "      <td>0.0</td>\n",
       "      <td>...</td>\n",
       "      <td>NaN</td>\n",
       "      <td>NaN</td>\n",
       "      <td>NaN</td>\n",
       "      <td>NaN</td>\n",
       "      <td>NaN</td>\n",
       "      <td>NaN</td>\n",
       "      <td>NaN</td>\n",
       "      <td>NaN</td>\n",
       "      <td>NaN</td>\n",
       "      <td>NaN</td>\n",
       "    </tr>\n",
       "    <tr>\n",
       "      <th>2</th>\n",
       "      <td>1000004</td>\n",
       "      <td>0</td>\n",
       "      <td>2253487625</td>\n",
       "      <td>True</td>\n",
       "      <td>0</td>\n",
       "      <td>{'displayName': 'Successful', 'value': 1}</td>\n",
       "      <td>{'displayName': 'FirstHalf', 'value': 1}</td>\n",
       "      <td>[{'type': {'displayName': 'Angle', 'value': 21...</td>\n",
       "      <td>[91, 117, 30, 35, 215, 218]</td>\n",
       "      <td>0.0</td>\n",
       "      <td>...</td>\n",
       "      <td>NaN</td>\n",
       "      <td>NaN</td>\n",
       "      <td>NaN</td>\n",
       "      <td>NaN</td>\n",
       "      <td>NaN</td>\n",
       "      <td>NaN</td>\n",
       "      <td>NaN</td>\n",
       "      <td>NaN</td>\n",
       "      <td>NaN</td>\n",
       "      <td>NaN</td>\n",
       "    </tr>\n",
       "    <tr>\n",
       "      <th>3</th>\n",
       "      <td>1000005</td>\n",
       "      <td>0</td>\n",
       "      <td>2253487639</td>\n",
       "      <td>True</td>\n",
       "      <td>0</td>\n",
       "      <td>{'displayName': 'Successful', 'value': 1}</td>\n",
       "      <td>{'displayName': 'FirstHalf', 'value': 1}</td>\n",
       "      <td>[{'type': {'displayName': 'StandingSave', 'val...</td>\n",
       "      <td>[91, 117, 30, 36, 38, 216, 218]</td>\n",
       "      <td>2.0</td>\n",
       "      <td>...</td>\n",
       "      <td>NaN</td>\n",
       "      <td>NaN</td>\n",
       "      <td>NaN</td>\n",
       "      <td>NaN</td>\n",
       "      <td>NaN</td>\n",
       "      <td>NaN</td>\n",
       "      <td>NaN</td>\n",
       "      <td>NaN</td>\n",
       "      <td>NaN</td>\n",
       "      <td>NaN</td>\n",
       "    </tr>\n",
       "    <tr>\n",
       "      <th>4</th>\n",
       "      <td>1000006</td>\n",
       "      <td>0</td>\n",
       "      <td>2253487685</td>\n",
       "      <td>True</td>\n",
       "      <td>0</td>\n",
       "      <td>{'displayName': 'Successful', 'value': 1}</td>\n",
       "      <td>{'displayName': 'FirstHalf', 'value': 1}</td>\n",
       "      <td>[{'type': {'displayName': 'Longball', 'value':...</td>\n",
       "      <td>[91, 119, 117, 123, 124, 127, 205, 39, 46, 36,...</td>\n",
       "      <td>7.0</td>\n",
       "      <td>...</td>\n",
       "      <td>NaN</td>\n",
       "      <td>NaN</td>\n",
       "      <td>NaN</td>\n",
       "      <td>NaN</td>\n",
       "      <td>NaN</td>\n",
       "      <td>NaN</td>\n",
       "      <td>NaN</td>\n",
       "      <td>NaN</td>\n",
       "      <td>NaN</td>\n",
       "      <td>NaN</td>\n",
       "    </tr>\n",
       "  </tbody>\n",
       "</table>\n",
       "<p>5 rows × 33 columns</p>\n",
       "</div>"
      ],
      "text/plain": [
       "   eventId  expandedMinute          id  isTouch  minute  \\\n",
       "0        2               0  2253487473    False       0   \n",
       "1  1000003               0  2253487469    False       0   \n",
       "2  1000004               0  2253487625     True       0   \n",
       "3  1000005               0  2253487639     True       0   \n",
       "4  1000006               0  2253487685     True       0   \n",
       "\n",
       "                                 outcomeType  \\\n",
       "0  {'displayName': 'Successful', 'value': 1}   \n",
       "1  {'displayName': 'Successful', 'value': 1}   \n",
       "2  {'displayName': 'Successful', 'value': 1}   \n",
       "3  {'displayName': 'Successful', 'value': 1}   \n",
       "4  {'displayName': 'Successful', 'value': 1}   \n",
       "\n",
       "                                     period  \\\n",
       "0  {'displayName': 'FirstHalf', 'value': 1}   \n",
       "1  {'displayName': 'FirstHalf', 'value': 1}   \n",
       "2  {'displayName': 'FirstHalf', 'value': 1}   \n",
       "3  {'displayName': 'FirstHalf', 'value': 1}   \n",
       "4  {'displayName': 'FirstHalf', 'value': 1}   \n",
       "\n",
       "                                          qualifiers  \\\n",
       "0                                                 []   \n",
       "1                                                 []   \n",
       "2  [{'type': {'displayName': 'Angle', 'value': 21...   \n",
       "3  [{'type': {'displayName': 'StandingSave', 'val...   \n",
       "4  [{'type': {'displayName': 'Longball', 'value':...   \n",
       "\n",
       "                                satisfiedEventsTypes  second  ...  blockedY  \\\n",
       "0                                                 []     0.0  ...       NaN   \n",
       "1                                                 []     0.0  ...       NaN   \n",
       "2                        [91, 117, 30, 35, 215, 218]     0.0  ...       NaN   \n",
       "3                    [91, 117, 30, 36, 38, 216, 218]     2.0  ...       NaN   \n",
       "4  [91, 119, 117, 123, 124, 127, 205, 39, 46, 36,...     7.0  ...       NaN   \n",
       "\n",
       "  cardType  isGoal  $idx  $len  field  minuteInfo  satisfiers  text isOwnGoal  \n",
       "0      NaN     NaN   NaN   NaN    NaN         NaN         NaN   NaN       NaN  \n",
       "1      NaN     NaN   NaN   NaN    NaN         NaN         NaN   NaN       NaN  \n",
       "2      NaN     NaN   NaN   NaN    NaN         NaN         NaN   NaN       NaN  \n",
       "3      NaN     NaN   NaN   NaN    NaN         NaN         NaN   NaN       NaN  \n",
       "4      NaN     NaN   NaN   NaN    NaN         NaN         NaN   NaN       NaN  \n",
       "\n",
       "[5 rows x 33 columns]"
      ]
     },
     "execution_count": 171,
     "metadata": {},
     "output_type": "execute_result"
    }
   ],
   "source": [
    "df.head()"
   ]
  },
  {
   "cell_type": "code",
   "execution_count": 172,
   "metadata": {},
   "outputs": [
    {
     "data": {
      "text/plain": [
       "Index(['eventId', 'expandedMinute', 'id', 'isTouch', 'minute', 'outcomeType',\n",
       "       'period', 'qualifiers', 'satisfiedEventsTypes', 'second', 'teamId',\n",
       "       'type', 'x', 'y', 'endX', 'endY', 'playerId', 'goalMouthY',\n",
       "       'goalMouthZ', 'isShot', 'relatedEventId', 'relatedPlayerId', 'blockedX',\n",
       "       'blockedY', 'cardType', 'isGoal', '$idx', '$len', 'field', 'minuteInfo',\n",
       "       'satisfiers', 'text', 'isOwnGoal'],\n",
       "      dtype='object')"
      ]
     },
     "execution_count": 172,
     "metadata": {},
     "output_type": "execute_result"
    }
   ],
   "source": [
    "df.columns"
   ]
  },
  {
   "cell_type": "code",
   "execution_count": 173,
   "metadata": {},
   "outputs": [],
   "source": [
    "df_shots = df[df[\"isShot\"] == True].copy()"
   ]
  },
  {
   "cell_type": "code",
   "execution_count": 174,
   "metadata": {},
   "outputs": [
    {
     "data": {
      "text/html": [
       "<div>\n",
       "<style scoped>\n",
       "    .dataframe tbody tr th:only-of-type {\n",
       "        vertical-align: middle;\n",
       "    }\n",
       "\n",
       "    .dataframe tbody tr th {\n",
       "        vertical-align: top;\n",
       "    }\n",
       "\n",
       "    .dataframe thead th {\n",
       "        text-align: right;\n",
       "    }\n",
       "</style>\n",
       "<table border=\"1\" class=\"dataframe\">\n",
       "  <thead>\n",
       "    <tr style=\"text-align: right;\">\n",
       "      <th></th>\n",
       "      <th>eventId</th>\n",
       "      <th>expandedMinute</th>\n",
       "      <th>id</th>\n",
       "      <th>isTouch</th>\n",
       "      <th>minute</th>\n",
       "      <th>outcomeType</th>\n",
       "      <th>period</th>\n",
       "      <th>qualifiers</th>\n",
       "      <th>satisfiedEventsTypes</th>\n",
       "      <th>second</th>\n",
       "      <th>...</th>\n",
       "      <th>blockedY</th>\n",
       "      <th>cardType</th>\n",
       "      <th>isGoal</th>\n",
       "      <th>$idx</th>\n",
       "      <th>$len</th>\n",
       "      <th>field</th>\n",
       "      <th>minuteInfo</th>\n",
       "      <th>satisfiers</th>\n",
       "      <th>text</th>\n",
       "      <th>isOwnGoal</th>\n",
       "    </tr>\n",
       "  </thead>\n",
       "  <tbody>\n",
       "    <tr>\n",
       "      <th>5</th>\n",
       "      <td>1000007</td>\n",
       "      <td>0</td>\n",
       "      <td>2253487689</td>\n",
       "      <td>True</td>\n",
       "      <td>0</td>\n",
       "      <td>{'displayName': 'Successful', 'value': 1}</td>\n",
       "      <td>{'displayName': 'FirstHalf', 'value': 1}</td>\n",
       "      <td>[{'type': {'displayName': 'RelatedEventId', 'v...</td>\n",
       "      <td>[91, 7, 90, 10, 1, 3, 13]</td>\n",
       "      <td>11.0</td>\n",
       "      <td>...</td>\n",
       "      <td>NaN</td>\n",
       "      <td>NaN</td>\n",
       "      <td>NaN</td>\n",
       "      <td>NaN</td>\n",
       "      <td>NaN</td>\n",
       "      <td>NaN</td>\n",
       "      <td>NaN</td>\n",
       "      <td>NaN</td>\n",
       "      <td>NaN</td>\n",
       "      <td>NaN</td>\n",
       "    </tr>\n",
       "    <tr>\n",
       "      <th>53</th>\n",
       "      <td>1000029</td>\n",
       "      <td>2</td>\n",
       "      <td>2253489297</td>\n",
       "      <td>True</td>\n",
       "      <td>2</td>\n",
       "      <td>{'displayName': 'Successful', 'value': 1}</td>\n",
       "      <td>{'displayName': 'FirstHalf', 'value': 1}</td>\n",
       "      <td>[{'type': {'displayName': 'GoalMouthY', 'value...</td>\n",
       "      <td>[91, 10, 2, 3, 11, 13]</td>\n",
       "      <td>49.0</td>\n",
       "      <td>...</td>\n",
       "      <td>37.5</td>\n",
       "      <td>NaN</td>\n",
       "      <td>NaN</td>\n",
       "      <td>NaN</td>\n",
       "      <td>NaN</td>\n",
       "      <td>NaN</td>\n",
       "      <td>NaN</td>\n",
       "      <td>NaN</td>\n",
       "      <td>NaN</td>\n",
       "      <td>NaN</td>\n",
       "    </tr>\n",
       "    <tr>\n",
       "      <th>178</th>\n",
       "      <td>1000093</td>\n",
       "      <td>9</td>\n",
       "      <td>2253492889</td>\n",
       "      <td>True</td>\n",
       "      <td>9</td>\n",
       "      <td>{'displayName': 'Successful', 'value': 1}</td>\n",
       "      <td>{'displayName': 'FirstHalf', 'value': 1}</td>\n",
       "      <td>[{'type': {'displayName': 'GoalMouthZ', 'value...</td>\n",
       "      <td>[91, 10, 2, 3, 11, 12]</td>\n",
       "      <td>2.0</td>\n",
       "      <td>...</td>\n",
       "      <td>58.8</td>\n",
       "      <td>NaN</td>\n",
       "      <td>NaN</td>\n",
       "      <td>NaN</td>\n",
       "      <td>NaN</td>\n",
       "      <td>NaN</td>\n",
       "      <td>NaN</td>\n",
       "      <td>NaN</td>\n",
       "      <td>NaN</td>\n",
       "      <td>NaN</td>\n",
       "    </tr>\n",
       "    <tr>\n",
       "      <th>232</th>\n",
       "      <td>1000120</td>\n",
       "      <td>12</td>\n",
       "      <td>2253494513</td>\n",
       "      <td>True</td>\n",
       "      <td>12</td>\n",
       "      <td>{'displayName': 'Successful', 'value': 1}</td>\n",
       "      <td>{'displayName': 'FirstHalf', 'value': 1}</td>\n",
       "      <td>[{'type': {'displayName': 'OutOfBoxCentre', 'v...</td>\n",
       "      <td>[91, 7, 10, 2, 3, 13]</td>\n",
       "      <td>5.0</td>\n",
       "      <td>...</td>\n",
       "      <td>NaN</td>\n",
       "      <td>NaN</td>\n",
       "      <td>NaN</td>\n",
       "      <td>NaN</td>\n",
       "      <td>NaN</td>\n",
       "      <td>NaN</td>\n",
       "      <td>NaN</td>\n",
       "      <td>NaN</td>\n",
       "      <td>NaN</td>\n",
       "      <td>NaN</td>\n",
       "    </tr>\n",
       "    <tr>\n",
       "      <th>285</th>\n",
       "      <td>177</td>\n",
       "      <td>16</td>\n",
       "      <td>2253496507</td>\n",
       "      <td>True</td>\n",
       "      <td>16</td>\n",
       "      <td>{'displayName': 'Successful', 'value': 1}</td>\n",
       "      <td>{'displayName': 'FirstHalf', 'value': 1}</td>\n",
       "      <td>[{'type': {'displayName': 'GoalMouthY', 'value...</td>\n",
       "      <td>[91, 9, 10, 1, 3, 12]</td>\n",
       "      <td>8.0</td>\n",
       "      <td>...</td>\n",
       "      <td>49.5</td>\n",
       "      <td>NaN</td>\n",
       "      <td>NaN</td>\n",
       "      <td>NaN</td>\n",
       "      <td>NaN</td>\n",
       "      <td>NaN</td>\n",
       "      <td>NaN</td>\n",
       "      <td>NaN</td>\n",
       "      <td>NaN</td>\n",
       "      <td>NaN</td>\n",
       "    </tr>\n",
       "  </tbody>\n",
       "</table>\n",
       "<p>5 rows × 33 columns</p>\n",
       "</div>"
      ],
      "text/plain": [
       "     eventId  expandedMinute          id  isTouch  minute  \\\n",
       "5    1000007               0  2253487689     True       0   \n",
       "53   1000029               2  2253489297     True       2   \n",
       "178  1000093               9  2253492889     True       9   \n",
       "232  1000120              12  2253494513     True      12   \n",
       "285      177              16  2253496507     True      16   \n",
       "\n",
       "                                   outcomeType  \\\n",
       "5    {'displayName': 'Successful', 'value': 1}   \n",
       "53   {'displayName': 'Successful', 'value': 1}   \n",
       "178  {'displayName': 'Successful', 'value': 1}   \n",
       "232  {'displayName': 'Successful', 'value': 1}   \n",
       "285  {'displayName': 'Successful', 'value': 1}   \n",
       "\n",
       "                                       period  \\\n",
       "5    {'displayName': 'FirstHalf', 'value': 1}   \n",
       "53   {'displayName': 'FirstHalf', 'value': 1}   \n",
       "178  {'displayName': 'FirstHalf', 'value': 1}   \n",
       "232  {'displayName': 'FirstHalf', 'value': 1}   \n",
       "285  {'displayName': 'FirstHalf', 'value': 1}   \n",
       "\n",
       "                                            qualifiers  \\\n",
       "5    [{'type': {'displayName': 'RelatedEventId', 'v...   \n",
       "53   [{'type': {'displayName': 'GoalMouthY', 'value...   \n",
       "178  [{'type': {'displayName': 'GoalMouthZ', 'value...   \n",
       "232  [{'type': {'displayName': 'OutOfBoxCentre', 'v...   \n",
       "285  [{'type': {'displayName': 'GoalMouthY', 'value...   \n",
       "\n",
       "          satisfiedEventsTypes  second  ...  blockedY cardType  isGoal  $idx  \\\n",
       "5    [91, 7, 90, 10, 1, 3, 13]    11.0  ...       NaN      NaN     NaN   NaN   \n",
       "53      [91, 10, 2, 3, 11, 13]    49.0  ...      37.5      NaN     NaN   NaN   \n",
       "178     [91, 10, 2, 3, 11, 12]     2.0  ...      58.8      NaN     NaN   NaN   \n",
       "232      [91, 7, 10, 2, 3, 13]     5.0  ...       NaN      NaN     NaN   NaN   \n",
       "285      [91, 9, 10, 1, 3, 12]     8.0  ...      49.5      NaN     NaN   NaN   \n",
       "\n",
       "     $len  field  minuteInfo  satisfiers  text isOwnGoal  \n",
       "5     NaN    NaN         NaN         NaN   NaN       NaN  \n",
       "53    NaN    NaN         NaN         NaN   NaN       NaN  \n",
       "178   NaN    NaN         NaN         NaN   NaN       NaN  \n",
       "232   NaN    NaN         NaN         NaN   NaN       NaN  \n",
       "285   NaN    NaN         NaN         NaN   NaN       NaN  \n",
       "\n",
       "[5 rows x 33 columns]"
      ]
     },
     "execution_count": 174,
     "metadata": {},
     "output_type": "execute_result"
    }
   ],
   "source": [
    "df_shots.head()"
   ]
  },
  {
   "cell_type": "code",
   "execution_count": 175,
   "metadata": {},
   "outputs": [],
   "source": [
    "relevant_columns = ['outcome', 'x', 'y', 'intentional_assist', 'context', 'distance_to_goal',\n",
    "                    'angle']"
   ]
  },
  {
   "cell_type": "code",
   "execution_count": 176,
   "metadata": {},
   "outputs": [
    {
     "data": {
      "text/plain": [
       "eventId                                                               768\n",
       "expandedMinute                                                         75\n",
       "id                                                             2253522047\n",
       "isTouch                                                              True\n",
       "minute                                                                 70\n",
       "outcomeType                     {'displayName': 'Successful', 'value': 1}\n",
       "period                          {'displayName': 'SecondHalf', 'value': 2}\n",
       "qualifiers              [{'type': {'displayName': 'IntentionalAssist',...\n",
       "satisfiedEventsTypes                [91, 24, 9, 10, 1, 3, 12, 17, 19, 25]\n",
       "second                                                                8.0\n",
       "teamId                                                                 32\n",
       "type                                 {'displayName': 'Goal', 'value': 16}\n",
       "x                                                                    84.0\n",
       "y                                                                    54.0\n",
       "endX                                                                  NaN\n",
       "endY                                                                  NaN\n",
       "playerId                                                          97752.0\n",
       "goalMouthY                                                           50.0\n",
       "goalMouthZ                                                            8.9\n",
       "isShot                                                               True\n",
       "relatedEventId                                                      767.0\n",
       "relatedPlayerId                                                  300299.0\n",
       "blockedX                                                              NaN\n",
       "blockedY                                                              NaN\n",
       "cardType                                                              NaN\n",
       "isGoal                                                               True\n",
       "$idx                                                                  NaN\n",
       "$len                                                                  NaN\n",
       "field                                                                 NaN\n",
       "minuteInfo                                                            NaN\n",
       "satisfiers                                                            NaN\n",
       "text                                                                  NaN\n",
       "isOwnGoal                                                             NaN\n",
       "Name: 1177, dtype: object"
      ]
     },
     "execution_count": 176,
     "metadata": {},
     "output_type": "execute_result"
    }
   ],
   "source": [
    "df_shots.iloc[16]"
   ]
  },
  {
   "cell_type": "code",
   "execution_count": 177,
   "metadata": {},
   "outputs": [],
   "source": [
    "l = []\n",
    "for x in range((20)):\n",
    "    for y in range(len(df_shots.iloc[x][\"qualifiers\"])):\n",
    "        l.append(df_shots.iloc[x][\"qualifiers\"][y][\"type\"][\"displayName\"])"
   ]
  },
  {
   "cell_type": "code",
   "execution_count": 178,
   "metadata": {},
   "outputs": [
    {
     "data": {
      "text/plain": [
       "{'Assisted',\n",
       " 'Blocked',\n",
       " 'BlockedX',\n",
       " 'BlockedY',\n",
       " 'BoxCentre',\n",
       " 'BoxLeft',\n",
       " 'BoxRight',\n",
       " 'FromCorner',\n",
       " 'GoalMouthY',\n",
       " 'GoalMouthZ',\n",
       " 'HighCentre',\n",
       " 'HighLeft',\n",
       " 'HighRight',\n",
       " 'IntentionalAssist',\n",
       " 'LeftFoot',\n",
       " 'LowCentre',\n",
       " 'LowRight',\n",
       " 'MissLeft',\n",
       " 'MissRight',\n",
       " 'OppositeRelatedEvent',\n",
       " 'OutOfBoxCentre',\n",
       " 'RegularPlay',\n",
       " 'RelatedEventId',\n",
       " 'RightFoot',\n",
       " 'StandingSave',\n",
       " 'Zone'}"
      ]
     },
     "execution_count": 178,
     "metadata": {},
     "output_type": "execute_result"
    }
   ],
   "source": [
    "set(l)"
   ]
  },
  {
   "cell_type": "code",
   "execution_count": 179,
   "metadata": {},
   "outputs": [
    {
     "data": {
      "text/plain": [
       "[{'type': {'displayName': 'RightFoot', 'value': 20}},\n",
       " {'type': {'displayName': 'StandingSave', 'value': 178}},\n",
       " {'type': {'displayName': 'LowRight', 'value': 80}},\n",
       " {'type': {'displayName': 'GoalMouthZ', 'value': 103}, 'value': '19'},\n",
       " {'type': {'displayName': 'GoalMouthY', 'value': 102}, 'value': '47.6'},\n",
       " {'type': {'displayName': 'RegularPlay', 'value': 22}},\n",
       " {'type': {'displayName': 'Zone', 'value': 56}, 'value': 'Center'},\n",
       " {'type': {'displayName': 'Blocked', 'value': 82}},\n",
       " {'type': {'displayName': 'BlockedY', 'value': 147}, 'value': '39.2'},\n",
       " {'type': {'displayName': 'BoxRight', 'value': 63}},\n",
       " {'type': {'displayName': 'OppositeRelatedEvent', 'value': 233},\n",
       "  'value': '902'},\n",
       " {'type': {'displayName': 'BlockedX', 'value': 146}, 'value': '93.2'}]"
      ]
     },
     "execution_count": 179,
     "metadata": {},
     "output_type": "execute_result"
    }
   ],
   "source": [
    "df_shots.iloc[x][\"qualifiers\"]"
   ]
  },
  {
   "cell_type": "code",
   "execution_count": 180,
   "metadata": {},
   "outputs": [
    {
     "data": {
      "text/plain": [
       "[{'type': {'displayName': 'BigChance', 'value': 214}},\n",
       " {'type': {'displayName': 'GoalMouthY', 'value': 102}, 'value': '51.2'},\n",
       " {'type': {'displayName': 'IntentionalAssist', 'value': 154}},\n",
       " {'type': {'displayName': 'BlockedY', 'value': 147}, 'value': '46.8'},\n",
       " {'type': {'displayName': 'RightFoot', 'value': 20}},\n",
       " {'type': {'displayName': 'GoalMouthZ', 'value': 103}, 'value': '6.3'},\n",
       " {'type': {'displayName': 'RelatedEventId', 'value': 55}, 'value': '939'},\n",
       " {'type': {'displayName': 'LowCentre', 'value': 78}},\n",
       " {'type': {'displayName': 'OppositeRelatedEvent', 'value': 233},\n",
       "  'value': '1000698'},\n",
       " {'type': {'displayName': 'FastBreak', 'value': 23}},\n",
       " {'type': {'displayName': 'Assisted', 'value': 29}},\n",
       " {'type': {'displayName': 'BoxCentre', 'value': 17}},\n",
       " {'type': {'displayName': 'BlockedX', 'value': 146}, 'value': '94.5'},\n",
       " {'type': {'displayName': 'StandingSave', 'value': 178}},\n",
       " {'type': {'displayName': 'Zone', 'value': 56}, 'value': 'Center'}]"
      ]
     },
     "execution_count": 180,
     "metadata": {},
     "output_type": "execute_result"
    }
   ],
   "source": [
    "df_shots.iloc[22][\"qualifiers\"]"
   ]
  },
  {
   "cell_type": "code",
   "execution_count": 181,
   "metadata": {},
   "outputs": [],
   "source": [
    "def angle(x,y):\n",
    "    '''\n",
    "    Calculated in Radians.\n",
    "    '''\n",
    "    #x = x*105/100\n",
    "    #y = y*65/100\n",
    "    \n",
    "    x = 100 - x\n",
    "    y = abs(y-50)\n",
    "    x = x*105/100\n",
    "    y = y*65/100\n",
    "    a = np.arctan(7.32 *x /(x**2 + y**2 - (7.32/2)**2))\n",
    "    if a < 0:\n",
    "        a = np.pi + a\n",
    "    return a\n",
    "\n",
    "def intentional_assist(row):\n",
    "    for x in row[\"qualifiers\"]:\n",
    "        if x[\"type\"][\"displayName\"] == 'IntentionalAssist':\n",
    "            return 1\n",
    "    return 0\n",
    "\n",
    "def context(row):\n",
    "    for x in row[\"qualifiers\"]:\n",
    "        if x[\"type\"][\"displayName\"] == 'RegularPlay':\n",
    "             return 0\n",
    "        if x[\"type\"][\"displayName\"] == 'FromCorner':\n",
    "            return 1\n",
    "    return 2\n",
    "\n",
    "def distance(x,y):\n",
    "    x = 100 - x\n",
    "    y = abs(y-50)\n",
    "    x = x*105/100\n",
    "    y = y*65/100\n",
    "    return np.sqrt(x**2 + y**2)\n",
    "\n",
    "def goal(row):\n",
    "    if row[\"isGoal\"] == True:\n",
    "        return 1\n",
    "    else:\n",
    "        return 0"
   ]
  },
  {
   "cell_type": "code",
   "execution_count": 182,
   "metadata": {},
   "outputs": [],
   "source": [
    "df_shots = df[df[\"isShot\"] == True].copy()\n",
    "\n",
    "df_shots['angle'] = df_shots.apply(lambda i: angle(i[\"x\"], i[\"y\"]), axis=1)\n",
    "df_shots['intentional_assist'] = df_shots.apply(lambda i: intentional_assist(i), axis=1)\n",
    "df_shots['context'] = df_shots.apply(lambda i: context(i), axis=1)\n",
    "df_shots['distance_to_goal'] = df_shots.apply(lambda i: distance(i[\"x\"], i[\"y\"]), axis=1)\n",
    "df_shots['isGoal'] = df_shots.apply(lambda i: goal(i), axis=1)"
   ]
  },
  {
   "cell_type": "code",
   "execution_count": 183,
   "metadata": {},
   "outputs": [],
   "source": [
    "df_shots = df_shots[[\"isGoal\", \"x\", \"y\", \"angle\", \"intentional_assist\", \"distance_to_goal\",\n",
    "                    \"context\"]]"
   ]
  },
  {
   "cell_type": "code",
   "execution_count": 184,
   "metadata": {},
   "outputs": [],
   "source": [
    "y = df_shots[[\"isGoal\"]].copy()\n",
    "X = df_shots.drop([\"isGoal\"], axis=1)"
   ]
  },
  {
   "cell_type": "code",
   "execution_count": 185,
   "metadata": {},
   "outputs": [],
   "source": [
    "from sklearn.model_selection import train_test_split\n",
    "x_train, x_test, y_train, y_test = train_test_split(X, y, test_size=0.25, random_state=0)"
   ]
  },
  {
   "cell_type": "code",
   "execution_count": 186,
   "metadata": {},
   "outputs": [],
   "source": [
    "from sklearn.linear_model import LogisticRegression"
   ]
  },
  {
   "cell_type": "code",
   "execution_count": 187,
   "metadata": {},
   "outputs": [],
   "source": [
    "logisticRegr = LogisticRegression()"
   ]
  },
  {
   "cell_type": "code",
   "execution_count": 188,
   "metadata": {},
   "outputs": [
    {
     "name": "stderr",
     "output_type": "stream",
     "text": [
      "C:\\Users\\liban\\anaconda3\\lib\\site-packages\\sklearn\\utils\\validation.py:63: DataConversionWarning: A column-vector y was passed when a 1d array was expected. Please change the shape of y to (n_samples, ), for example using ravel().\n",
      "  return f(*args, **kwargs)\n"
     ]
    },
    {
     "data": {
      "text/plain": [
       "LogisticRegression()"
      ]
     },
     "execution_count": 188,
     "metadata": {},
     "output_type": "execute_result"
    }
   ],
   "source": [
    "logisticRegr.fit(x_train, y_train)"
   ]
  },
  {
   "cell_type": "code",
   "execution_count": 189,
   "metadata": {},
   "outputs": [],
   "source": [
    "predictions = logisticRegr.predict(x_test)"
   ]
  },
  {
   "cell_type": "code",
   "execution_count": 190,
   "metadata": {},
   "outputs": [
    {
     "data": {
      "text/plain": [
       "array([0, 0, 0, ..., 0, 0, 0], dtype=int64)"
      ]
     },
     "execution_count": 190,
     "metadata": {},
     "output_type": "execute_result"
    }
   ],
   "source": [
    "predictions"
   ]
  },
  {
   "cell_type": "code",
   "execution_count": 195,
   "metadata": {},
   "outputs": [
    {
     "data": {
      "text/plain": [
       "True"
      ]
     },
     "execution_count": 195,
     "metadata": {},
     "output_type": "execute_result"
    }
   ],
   "source": [
    "predictions"
   ]
  },
  {
   "cell_type": "code",
   "execution_count": null,
   "metadata": {},
   "outputs": [],
   "source": []
  }
 ],
 "metadata": {
  "kernelspec": {
   "display_name": "Python 3 (ipykernel)",
   "language": "python",
   "name": "python3"
  },
  "language_info": {
   "codemirror_mode": {
    "name": "ipython",
    "version": 3
   },
   "file_extension": ".py",
   "mimetype": "text/x-python",
   "name": "python",
   "nbconvert_exporter": "python",
   "pygments_lexer": "ipython3",
   "version": "3.9.7"
  },
  "vscode": {
   "interpreter": {
    "hash": "655e59ad875c813be4af4daf420eea8bacfe3abfae39e6b2aef60758468ea03f"
   }
  }
 },
 "nbformat": 4,
 "nbformat_minor": 2
}
